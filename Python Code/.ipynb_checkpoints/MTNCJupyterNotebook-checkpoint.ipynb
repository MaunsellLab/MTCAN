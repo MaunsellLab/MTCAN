{
 "cells": [
  {
   "cell_type": "code",
   "execution_count": 1,
   "id": "fbcab8fe",
   "metadata": {},
   "outputs": [],
   "source": [
    "from usefulFns import *"
   ]
  },
  {
   "cell_type": "markdown",
   "id": "7745df03",
   "metadata": {},
   "source": [
    "Load Data Here"
   ]
  },
  {
   "cell_type": "code",
   "execution_count": null,
   "id": "e27dcd98",
   "metadata": {},
   "outputs": [],
   "source": [
    "allTrials, header = loadMatFilePyMat('Meetz', '221010', 'Meetz_221010_MTNC_Spikes.mat')\n"
   ]
  },
  {
   "cell_type": "markdown",
   "id": "4b8d1ab6",
   "metadata": {},
   "source": [
    "Pre-process data for assertions and initialize pandas dataframe for unique stimulus configurations\n",
    "\n"
   ]
  },
  {
   "cell_type": "code",
   "execution_count": null,
   "id": "e9777244",
   "metadata": {},
   "outputs": [],
   "source": [
    "if not os.path.exists('Normalization'):\n",
    "    os.makedirs('Normalization')\n",
    "os.chdir('Normalization/')\n",
    "\n",
    "\n",
    "## generate list of unique active units\n",
    "units = activeUnits('spikeData', allTrials)\n",
    "\n",
    "\n",
    "## list of indices of correctTrials (non-instruct, valid trialCertify)\n",
    "corrTrials = correctTrialsMTX(allTrials)\n",
    "\n",
    "\n",
    "## change stimDesc to be list of dictionaries \n",
    "for corrTrial in corrTrials:\n",
    "    currTrial = allTrials[corrTrial]\n",
    "    nStim = len(currTrial['stimDesc']['data']['listType'])\n",
    "    currTrial['stimDesc']['data'] = [{k:v[i] for k,v in currTrial['stimDesc']['data'].items()} \n",
    "                                    for i in range(nStim)]\n",
    "\n",
    "\n",
    "## assert: stim sequence list is frozen\n",
    "seqList = []\n",
    "for corrTrial in corrTrials:\n",
    "    currTrial = allTrials[corrTrial]\n",
    "    stimDesc = currTrial['stimDesc']['data']\n",
    "    for stim in stimDesc:\n",
    "        if stim['stimLoc'] == 0 and stim['listType'] == 1:\n",
    "            if len(seqList) < 49:\n",
    "                seqList.append(stim['stimIndex'])\n",
    "                seqArr = np.array(seqList)\n",
    "                lastIndex = stim['stimIndex']\n",
    "            else:\n",
    "                posLastIndex = np.where(seqArr==lastIndex)[0][0]\n",
    "                if posLastIndex == len(seqArr)-1:\n",
    "                    if stim['stimIndex'] != seqArr[0]:\n",
    "                        print('out of sequence')\n",
    "                    else:\n",
    "                        lastIndex = stim['stimIndex']\n",
    "                else:\n",
    "                    if stim['stimIndex'] != seqArr[posLastIndex+1]:\n",
    "                        print('out of sequence')\n",
    "                    else:\n",
    "                        lastIndex = stim['stimIndex']\n",
    "\n",
    "\n",
    "## assert: are there correct trials without spikeData\n",
    "noSpikeData = []\n",
    "for trialCount, currTrial in enumerate(allTrials):\n",
    "    trial = currTrial['trial']['data']\n",
    "    extendedEOT = currTrial['extendedEOT']['data']\n",
    "    if extendedEOT == 0 and trial['instructTrial'] != 1:\n",
    "        if 'spikeData' not in currTrial:\n",
    "            noSpikeData.append(trialCount)\n",
    "\n",
    "\n",
    "## assert: frame consistency during stimlus duration\n",
    "frameRateHz = header['frameRateHz']['data']\n",
    "stimDurFrame = []\n",
    "for corrTrial in corrTrials:\n",
    "    currTrial = allTrials[corrTrial]\n",
    "    stimDesc = currTrial['stimDesc']['data']\n",
    "    for stim in stimDesc:\n",
    "        if stim['stimLoc'] == 0:\n",
    "            frameDiff = stim['stimOffFrame'] - stim['stimOnFrame']\n",
    "            stimDurFrame.append(frameDiff)\n",
    "if len(set(stimDurFrame)) != 1:\n",
    "    print('stimulus frame duration not consistent for mapping stimuli')\n",
    "else: \n",
    "    trueStimDurMS = np.int32(np.around(1000/frameRateHz * stimDurFrame[0]))\n",
    "\n",
    "\n",
    "# generates a dictionary, numpy array, and Pandas Dataframe of stim Index \n",
    "# and corresponding directions/contrasts\n",
    "stimIndexDict = {}\n",
    "for corrTrial in corrTrials:\n",
    "    currTrial = allTrials[corrTrial]\n",
    "    stimDesc = currTrial['stimDesc']['data']\n",
    "    for stim in stimDesc:\n",
    "        if stim['stimLoc'] != 2:\n",
    "            index = stim['stimIndex']\n",
    "            if index not in stimIndexDict:\n",
    "                stimIndexDict[index] = {}\n",
    "                if stim['stimLoc'] not in stimIndexDict[index]:\n",
    "                    stimIndexDict[index][stim['stimLoc']] = \\\n",
    "                    {'direction': stim['directionDeg'],\n",
    "                        'contrast': np.around(stim['contrast'],2)}\n",
    "            else:\n",
    "                if stim['stimLoc'] not in stimIndexDict[index]:\n",
    "                    stimIndexDict[index][stim['stimLoc']] = \\\n",
    "                    {'direction': stim['directionDeg'],\n",
    "                        'contrast': np.around(stim['contrast'],2)}\n",
    "stimIndexArray = np.zeros((49,4))\n",
    "for i in range(len(stimIndexDict)):\n",
    "    stimIndexArray[i][0] = stimIndexDict[i][0]['direction']\n",
    "    stimIndexArray[i][1] = stimIndexDict[i][0]['contrast']\n",
    "    stimIndexArray[i][2] = stimIndexDict[i][1]['direction']\n",
    "    stimIndexArray[i][3] = stimIndexDict[i][1]['contrast']\n",
    "stimIndexDF = pd.DataFrame(stimIndexArray, columns=['loc0 Direction', 'loc0 Contrast',\n",
    "                                            'loc1 Direction', 'loc1 Contrast'])\n",
    "\n"
   ]
  },
  {
   "cell_type": "markdown",
   "id": "49d95ef8",
   "metadata": {},
   "source": [
    "Initialize lists/dataframes/arrays for counting spike counts during stim presentations\n"
   ]
  },
  {
   "cell_type": "code",
   "execution_count": null,
   "id": "5a50d6ce",
   "metadata": {},
   "outputs": [],
   "source": [
    "#initialize lists/arrays/dataframes for counting spikeCounts and for analysis\n",
    "blocksDone = allTrials[corrTrials[-2]]['blockStatus']['data']['blocksDone'] \n",
    "highContrast, zeroContrast = max(stimIndexDF['loc0 Contrast'].unique()), \\\n",
    "                             min(stimIndexDF['loc0 Contrast'].unique())\n",
    "zeroDir = 0\n",
    "dirArray = np.array([0,60,120,180,240,300])\n",
    "spikeCountMat = np.zeros((len(units),blocksDone+1,49))\n",
    "spikeCountLong = []\n",
    "sponSpikeCountLong = []\n",
    "histPrePostMS = 100 #100ms window pre/post stimlus on/off\n",
    "sponWindowMS = 50 #50ms window before stimulus onset\n",
    "spikeHists = np.zeros((len(units),49, trueStimDurMS+(2*histPrePostMS+1)))\n",
    "stimIndexCount = np.zeros(49) "
   ]
  },
  {
   "cell_type": "markdown",
   "id": "e092a891",
   "metadata": {},
   "source": [
    "Put spike counts into dataframe/array for each stimulus and for each unit "
   ]
  },
  {
   "cell_type": "code",
   "execution_count": 1,
   "id": "7ba302ec",
   "metadata": {},
   "outputs": [
    {
     "ename": "NameError",
     "evalue": "name 'corrTrials' is not defined",
     "output_type": "error",
     "traceback": [
      "\u001b[0;31m---------------------------------------------------------------------------\u001b[0m",
      "\u001b[0;31mNameError\u001b[0m                                 Traceback (most recent call last)",
      "Input \u001b[0;32mIn [1]\u001b[0m, in \u001b[0;36m<cell line: 2>\u001b[0;34m()\u001b[0m\n\u001b[1;32m      1\u001b[0m \u001b[38;5;66;03m# insert spike counts into matrix of unique stimulus sets\u001b[39;00m\n\u001b[0;32m----> 2\u001b[0m \u001b[38;5;28;01mfor\u001b[39;00m corrTrial \u001b[38;5;129;01min\u001b[39;00m \u001b[43mcorrTrials\u001b[49m:\n\u001b[1;32m      3\u001b[0m     currTrial \u001b[38;5;241m=\u001b[39m allTrials[corrTrial]\n\u001b[1;32m      4\u001b[0m     \u001b[38;5;28;01mif\u001b[39;00m \u001b[38;5;124m'\u001b[39m\u001b[38;5;124mspikeData\u001b[39m\u001b[38;5;124m'\u001b[39m \u001b[38;5;129;01min\u001b[39;00m currTrial:\n",
      "\u001b[0;31mNameError\u001b[0m: name 'corrTrials' is not defined"
     ]
    }
   ],
   "source": [
    "# insert spike counts into matrix of unique stimulus sets\n",
    "for corrTrial in corrTrials:\n",
    "    currTrial = allTrials[corrTrial]\n",
    "    if 'spikeData' in currTrial:\n",
    "        stimDesc = currTrial['stimDesc']['data']\n",
    "        stim1TimeS = currTrial['taskEvents']['stimulusOn']['time'][0]\n",
    "        fixateTimeS = currTrial['taskEvents']['fixate']['time']\n",
    "        for stim in stimDesc:\n",
    "            if stim['stimLoc'] == 0 and stim['listType'] == 1:\n",
    "                stimOnTimeS = ((1000/frameRateHz * stim['stimOnFrame'])\n",
    "                                /1000) + stim1TimeS\n",
    "                stimOffTimeS = ((1000/frameRateHz * stim['stimOffFrame'])\n",
    "                                /1000) + stim1TimeS\n",
    "                stimIndex = np.int32(stim['stimIndex'])\n",
    "                stCount = int(stimIndexCount[stimIndex])\n",
    "                stimIndexCount[stimIndex] += 1\n",
    "                for unitCount, unit in enumerate(units):\n",
    "                    if unit in currTrial['spikeData']['unit']:\n",
    "                        unitIndex = np.where(currTrial['spikeData']['unit'] == unit)[0]\n",
    "                        #added 50ms onset latency for spike counts (100 for offset)\n",
    "                        unitTimeStamps = currTrial['spikeData']['timeStamp'][unitIndex]\n",
    "                        stimSpikes = np.where((unitTimeStamps >= (stimOnTimeS+0.05)) & \n",
    "                                    (unitTimeStamps <= (stimOffTimeS+0.05)))[0]\n",
    "                        spikeCountMat[unitCount][stCount][stimIndex] \\\n",
    "                        = len(stimSpikes)\n",
    "                        spikeCountLong.append([unit, stimIndex, stimIndexCount[stimIndex], len(stimSpikes)])\n",
    "\n",
    "                        #Spontaneous Spikes\n",
    "                        sponSpikes = np.where((unitTimeStamps >= (stimOnTimeS-(sponWindowMS/1000))) \n",
    "                                            & (unitTimeStamps <= stimOnTimeS))[0]\n",
    "                        sponSpikeCountLong.append([unit,len(sponSpikes)])\n",
    "\n",
    "                        #PSTHs\n",
    "                        stimOnPreSNEV = stimOnTimeS - (histPrePostMS/1000)\n",
    "                        stimOffPostSNEV = stimOffTimeS + (histPrePostMS/1000)\n",
    "                        histStimSpikes = unitTimeStamps[((unitTimeStamps >= stimOnPreSNEV)\\\n",
    "                                    & (unitTimeStamps <= stimOffPostSNEV))] - stimOnPreSNEV\n",
    "                        histStimSpikes = np.int32(histStimSpikes*1000)\n",
    "                        # spikeHists[unitCount, stimIndex, histStimSpikes] += 1\n",
    "                        spikeHists[unitCount][stimIndex][histStimSpikes] += 1"
   ]
  },
  {
   "cell_type": "code",
   "execution_count": null,
   "id": "575c88d5",
   "metadata": {},
   "outputs": [],
   "source": []
  }
 ],
 "metadata": {
  "kernelspec": {
   "display_name": "Python 3 (ipykernel)",
   "language": "python",
   "name": "python3"
  },
  "language_info": {
   "codemirror_mode": {
    "name": "ipython",
    "version": 3
   },
   "file_extension": ".py",
   "mimetype": "text/x-python",
   "name": "python",
   "nbconvert_exporter": "python",
   "pygments_lexer": "ipython3",
   "version": "3.9.7"
  }
 },
 "nbformat": 4,
 "nbformat_minor": 5
}
